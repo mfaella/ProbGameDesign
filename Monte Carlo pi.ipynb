{
 "cells": [
  {
   "cell_type": "markdown",
   "metadata": {},
   "source": [
    "## Computing PI by Monte Carlo simulation"
   ]
  },
  {
   "cell_type": "code",
   "execution_count": null,
   "metadata": {},
   "outputs": [],
   "source": [
    "import random\n",
    "import statistics as stats\n",
    "from IPython.display import display, clear_output\n",
    "\n",
    "samples = []\n",
    "for i in range(0,50000):\n",
    "    # Sample X\n",
    "    x = random.random() # uniform in [0, 1)\n",
    "    y = random.random()\n",
    "    # Convert X in Y'\n",
    "    if x**2 + y**2 < 1:\n",
    "        samples.append(4)\n",
    "    else:\n",
    "        samples.append(0)\n",
    "    my_pi = stats.mean(samples)\n",
    "    # show progress\n",
    "    if (i % 100 == 0):\n",
    "        clear_output(wait=True)\n",
    "        display('Iteration ' + str(i) + ' Score: ' + str(my_pi))"
   ]
  },
  {
   "cell_type": "code",
   "execution_count": null,
   "metadata": {},
   "outputs": [],
   "source": []
  }
 ],
 "metadata": {
  "kernelspec": {
   "display_name": "Python 3",
   "language": "python",
   "name": "python3"
  },
  "language_info": {
   "codemirror_mode": {
    "name": "ipython",
    "version": 3
   },
   "file_extension": ".py",
   "mimetype": "text/x-python",
   "name": "python",
   "nbconvert_exporter": "python",
   "pygments_lexer": "ipython3",
   "version": "3.8.5"
  }
 },
 "nbformat": 4,
 "nbformat_minor": 4
}
