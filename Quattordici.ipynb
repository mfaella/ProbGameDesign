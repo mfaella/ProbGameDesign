{
 "cells": [
  {
   "cell_type": "markdown",
   "metadata": {},
   "source": [
    "## Estimating avg time-to-finish by Monte Carlo simulation"
   ]
  },
  {
   "cell_type": "code",
   "execution_count": 3,
   "metadata": {},
   "outputs": [
    {
     "name": "stdout",
     "output_type": "stream",
     "text": [
      "1 2 3 4 5 6 7 8 9 10 [4.20077, 3.67137, 3.4463, 3.31322, 3.22894, 3.16629, 3.12444, 3.09008, 3.0688, 3.04891]\n"
     ]
    },
    {
     "data": {
      "image/png": "[encoded data removed]",
      "text/plain": [
       "<Figure size 432x288 with 1 Axes>"
      ]
     },
     "metadata": {
      "needs_background": "light"
     },
     "output_type": "display_data"
    }
   ],
   "source": [
    "import statistics as stat\n",
    "import random\n",
    "import matplotlib.pyplot as plt\n",
    "\n",
    "end = 14\n",
    "attempts = 100000\n",
    "nplayers = range(1, 11)\n",
    "# The statistic we're computing\n",
    "avg = [0] * len(nplayers)\n",
    "stdev = [0] * len(nplayers)\n",
    "\n",
    "for n in nplayers:\n",
    "    print(n, end=' ', flush=True)\n",
    "    lengths = []\n",
    "    # For each game\n",
    "    for attempt in range(attempts):\n",
    "        winner = -1\n",
    "        # List of current positions\n",
    "        pos = [1] * len(nplayers)\n",
    "        turns = 1\n",
    "        while True:\n",
    "            for i in range(n):\n",
    "                dado = random.randint(1, 6)\n",
    "                pos[i] += dado\n",
    "                if (pos[i]>=end):\n",
    "                    winner = i\n",
    "                    break\n",
    "            if (winner>=0):                \n",
    "                break\n",
    "            turns += 1            \n",
    "        lengths.append(turns)\n",
    "    avg[n-1] = stat.mean(lengths)\n",
    "    stdev[n-1] = stat.pstdev(lengths)\n",
    "\n",
    "print(avg)\n",
    "\n",
    "# The plot\n",
    "fig, ax = plt.subplots()\n",
    "ax.errorbar(nplayers, avg, yerr=stdev)\n",
    "ax.set(xlabel='# of players', ylabel='avg # of turns to finish', title='Quattordici avg time-to-finish')\n",
    "ax.grid()\n",
    "plt.show()"
   ]
  },
  {
   "cell_type": "markdown",
   "metadata": {},
   "source": [
    "## Theoretical solution: absorption time in a MC"
   ]
  },
  {
   "cell_type": "code",
   "execution_count": 2,
   "metadata": {},
   "outputs": [
    {
     "name": "stdout",
     "output_type": "stream",
     "text": [
      "[4.19720553 3.90637531 3.61298219 3.32369373 3.04332478 2.77523077\n",
      " 2.52162637 2.16139403 1.85262346 1.58796296 1.36111111 1.16666667\n",
      " 1.        ]\n"
     ]
    }
   ],
   "source": [
    "# Theoretical solution\n",
    "import numpy as np\n",
    "\n",
    "# Transient transition matrix for 1 player\n",
    "#                   2    3    4    5    6    7     8    9   10   11   12   13\n",
    "Q1 = np.array([[0, 1/6, 1/6, 1/6, 1/6, 1/6, 1/6,   0,   0,   0,   0,   0,   0],\n",
    "               [0,   0, 1/6, 1/6, 1/6, 1/6, 1/6, 1/6,   0,   0,   0,   0,   0],\n",
    "               [0,   0,   0, 1/6, 1/6, 1/6, 1/6, 1/6, 1/6,   0,   0,   0,   0],\n",
    "               [0,   0,   0,   0, 1/6, 1/6, 1/6, 1/6, 1/6, 1/6,   0,   0,   0],\n",
    "               [0,   0,   0,   0,   0, 1/6, 1/6, 1/6, 1/6, 1/6, 1/6,   0,   0],              \n",
    "               [0,   0,   0,   0,   0,   0, 1/6, 1/6, 1/6, 1/6, 1/6, 1/6,   0],\n",
    "               [0,   0,   0,   0,   0,   0,   0, 1/6, 1/6, 1/6, 1/6, 1/6, 1/6],\n",
    "               [0,   0,   0,   0,   0,   0,   0,   0, 1/6, 1/6, 1/6, 1/6, 1/6],\n",
    "               [0,   0,   0,   0,   0,   0,   0,   0,   0, 1/6, 1/6, 1/6, 1/6],\n",
    "               [0,   0,   0,   0,   0,   0,   0,   0,   0,   0, 1/6, 1/6, 1/6],\n",
    "               [0,   0,   0,   0,   0,   0,   0,   0,   0,   0,   0, 1/6, 1/6],\n",
    "               [0,   0,   0,   0,   0,   0,   0,   0,   0,   0,   0,   0, 1/6],             \n",
    "               [0,   0,   0,   0,   0,   0,   0,   0,   0,   0,   0,   0,   0]\n",
    "              ])\n",
    "\n",
    "# Fundamental matrix\n",
    "N = np.linalg.inv(np.identity(13) - Q1)\n",
    "# Absorption-time vector\n",
    "hit_time = N.dot(np.ones(13))\n",
    "print(hit_time)"
   ]
  }
 ],
 "metadata": {
  "kernelspec": {
   "display_name": "Python 3",
   "language": "python",
   "name": "python3"
  },
  "language_info": {
   "codemirror_mode": {
    "name": "ipython",
    "version": 3
   },
   "file_extension": ".py",
   "mimetype": "text/x-python",
   "name": "python",
   "nbconvert_exporter": "python",
   "pygments_lexer": "ipython3",
   "version": "3.8.5"
  }
 },
 "nbformat": 4,
 "nbformat_minor": 2
}
